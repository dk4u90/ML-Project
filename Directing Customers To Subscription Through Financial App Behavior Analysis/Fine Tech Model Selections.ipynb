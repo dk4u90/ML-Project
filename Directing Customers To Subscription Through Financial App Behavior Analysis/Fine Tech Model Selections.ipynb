{
 "cells": [
  {
   "cell_type": "code",
   "execution_count": 1,
   "metadata": {},
   "outputs": [],
   "source": [
    "import pandas as pd\n",
    "import numpy as np\n",
    "import seaborn as sns\n",
    "import matplotlib.pyplot as plt"
   ]
  },
  {
   "cell_type": "code",
   "execution_count": 2,
   "metadata": {},
   "outputs": [],
   "source": [
    "fineTech_appData_clean = pd.read_csv('D:\\ML Project\\clean_FineTech_appData.csv')"
   ]
  },
  {
   "cell_type": "code",
   "execution_count": 3,
   "metadata": {},
   "outputs": [],
   "source": [
    "# plt.figure(figsize=(15,10))\n",
    "# sns.heatmap(fineTech_appData_clean.corr(),annot=True,linewidths=2)"
   ]
  },
  {
   "cell_type": "code",
   "execution_count": 4,
   "metadata": {},
   "outputs": [
    {
     "name": "stdout",
     "output_type": "stream",
     "text": [
      "('Shape of X_train = ', (40000, 49))\n",
      "('Shape of X_test = ', (10000, 49))\n",
      "('Shape of y_train = ', (40000L,))\n",
      "('Shape of y_test = ', (10000L,))\n"
     ]
    }
   ],
   "source": [
    "#Data preprocessing\n",
    "#Split dataset in Train and Test\n",
    "\n",
    "#fineTech_appData_clean = fineTech_appData\n",
    "target =fineTech_appData_clean['enrolled']\n",
    "fineTech_appData_clean.drop(columns = 'enrolled', inplace = True)\n",
    "from sklearn.model_selection import train_test_split\n",
    "X_train, X_test, y_train, y_test = train_test_split(fineTech_appData_clean, target, test_size = 0.2, random_state = 0)\n",
    "print('Shape of X_train = ', X_train.shape)\n",
    "print('Shape of X_test = ', X_test.shape)\n",
    "print('Shape of y_train = ', y_train.shape)\n",
    "print('Shape of y_test = ', y_test.shape)"
   ]
  },
  {
   "cell_type": "code",
   "execution_count": 5,
   "metadata": {},
   "outputs": [
    {
     "name": "stdout",
     "output_type": "stream",
     "text": [
      "('Shape of X_train = ', (40000, 48))\n",
      "('Shape of X_test = ', (10000, 48))\n",
      "('Shape of train_userID = ', (40000L,))\n",
      "('Shape of test_userID = ', (10000L,))\n"
     ]
    },
    {
     "name": "stderr",
     "output_type": "stream",
     "text": [
      "C:\\ProgramData\\Anaconda2\\lib\\site-packages\\pandas\\core\\frame.py:3940: SettingWithCopyWarning: \n",
      "A value is trying to be set on a copy of a slice from a DataFrame\n",
      "\n",
      "See the caveats in the documentation: http://pandas.pydata.org/pandas-docs/stable/indexing.html#indexing-view-versus-copy\n",
      "  errors=errors)\n"
     ]
    }
   ],
   "source": [
    "train_userID = X_train['user']\n",
    "X_train.drop(columns= 'user', inplace =True)\n",
    "test_userID = X_test['user']\n",
    "X_test.drop(columns= 'user', inplace =True)\n",
    "print('Shape of X_train = ', X_train.shape)\n",
    "print('Shape of X_test = ', X_test.shape)\n",
    "print('Shape of train_userID = ', train_userID.shape)\n",
    "print('Shape of test_userID = ', test_userID.shape)"
   ]
  },
  {
   "cell_type": "code",
   "execution_count": 6,
   "metadata": {},
   "outputs": [
    {
     "name": "stderr",
     "output_type": "stream",
     "text": [
      "C:\\ProgramData\\Anaconda2\\lib\\site-packages\\sklearn\\preprocessing\\data.py:645: DataConversionWarning: Data with input dtype int64 were all converted to float64 by StandardScaler.\n",
      "  return self.partial_fit(X, y)\n",
      "C:\\ProgramData\\Anaconda2\\lib\\site-packages\\sklearn\\base.py:464: DataConversionWarning: Data with input dtype int64 were all converted to float64 by StandardScaler.\n",
      "  return self.fit(X, **fit_params).transform(X)\n",
      "C:\\ProgramData\\Anaconda2\\lib\\site-packages\\ipykernel_launcher.py:6: DataConversionWarning: Data with input dtype int64 were all converted to float64 by StandardScaler.\n",
      "  \n"
     ]
    }
   ],
   "source": [
    "#Feature Scaling\n",
    "#The multiple features in the different units so for the best accuracy need to convert all features in a single unit.\n",
    "from sklearn.preprocessing import StandardScaler\n",
    "sc = StandardScaler()\n",
    "X_train_sc = sc.fit_transform(X_train)\n",
    "X_test_sc = sc.transform(X_test)"
   ]
  },
  {
   "cell_type": "code",
   "execution_count": 7,
   "metadata": {},
   "outputs": [],
   "source": [
    "# impoer required packages\n",
    "from sklearn.metrics import confusion_matrix,classification_report,accuracy_score"
   ]
  },
  {
   "cell_type": "code",
   "execution_count": 8,
   "metadata": {},
   "outputs": [
    {
     "data": {
      "text/plain": [
       "0.7003"
      ]
     },
     "execution_count": 8,
     "metadata": {},
     "output_type": "execute_result"
    }
   ],
   "source": [
    "# Decision Tree Classifier\n",
    "from sklearn.tree import DecisionTreeClassifier\n",
    "dt_model = DecisionTreeClassifier()\n",
    "dt_model.fit(X_train,y_train)\n",
    "y_pred_dt = dt_model.predict(X_test)\n",
    "accuracy_score(y_test,y_pred_dt)"
   ]
  },
  {
   "cell_type": "code",
   "execution_count": 9,
   "metadata": {},
   "outputs": [
    {
     "data": {
      "text/plain": [
       "0.6937"
      ]
     },
     "execution_count": 9,
     "metadata": {},
     "output_type": "execute_result"
    }
   ],
   "source": [
    "dt_model2 = DecisionTreeClassifier()\n",
    "dt_model2.fit(X_train_sc,y_train)\n",
    "y_pred_dt_sc = dt_model2.predict(X_test_sc)\n",
    "accuracy_score(y_test,y_pred_dt_sc)"
   ]
  },
  {
   "cell_type": "code",
   "execution_count": 10,
   "metadata": {},
   "outputs": [
    {
     "data": {
      "text/plain": [
       "0.6994"
      ]
     },
     "execution_count": 10,
     "metadata": {},
     "output_type": "execute_result"
    }
   ],
   "source": [
    "#K – Nearest Neighbor Classifier\n",
    "from sklearn.neighbors import KNeighborsClassifier\n",
    "kc_model = KNeighborsClassifier()\n",
    "kc_model.fit(X_train,y_train)\n",
    "y_pred_kc =kc_model.predict(X_test)\n",
    "accuracy_score(y_test,y_pred_kc)"
   ]
  },
  {
   "cell_type": "code",
   "execution_count": 11,
   "metadata": {},
   "outputs": [
    {
     "data": {
      "text/plain": [
       "0.7314"
      ]
     },
     "execution_count": 11,
     "metadata": {},
     "output_type": "execute_result"
    }
   ],
   "source": [
    "kc_model2 = KNeighborsClassifier()\n",
    "kc_model2.fit(X_train_sc,y_train)\n",
    "y_pred_kc_sc = kc_model2.predict(X_test_sc)\n",
    "accuracy_score(y_test,y_pred_kc_sc)"
   ]
  },
  {
   "cell_type": "code",
   "execution_count": 12,
   "metadata": {},
   "outputs": [
    {
     "data": {
      "text/plain": [
       "<matplotlib.axes._subplots.AxesSubplot at 0xc3adeb8>"
      ]
     },
     "execution_count": 12,
     "metadata": {},
     "output_type": "execute_result"
    },
    {
     "data": {
      "image/png": "[encoded data removed]",
      "text/plain": [
       "<Figure size 432x288 with 2 Axes>"
      ]
     },
     "metadata": {
      "needs_background": "light"
     },
     "output_type": "display_data"
    }
   ],
   "source": [
    "# confussion matrix\n",
    "cm_kc_model = confusion_matrix(y_test,y_pred_kc_sc)\n",
    "sns.heatmap(cm_kc_model,annot=True,fmt='g')"
   ]
  },
  {
   "cell_type": "code",
   "execution_count": 13,
   "metadata": {},
   "outputs": [
    {
     "name": "stdout",
     "output_type": "stream",
     "text": [
      "              precision    recall  f1-score   support\n",
      "\n",
      "           0       0.74      0.73      0.73      5072\n",
      "           1       0.72      0.73      0.73      4928\n",
      "\n",
      "   micro avg       0.73      0.73      0.73     10000\n",
      "   macro avg       0.73      0.73      0.73     10000\n",
      "weighted avg       0.73      0.73      0.73     10000\n",
      "\n"
     ]
    }
   ],
   "source": [
    "# Clasification Repor\n",
    "print(classification_report(y_test,y_pred_kc_sc))"
   ]
  },
  {
   "cell_type": "code",
   "execution_count": 14,
   "metadata": {},
   "outputs": [
    {
     "name": "stdout",
     "output_type": "stream",
     "text": [
      "('Cross validation of KNeighbors model = ', array([0.73031742, 0.73156711, 0.734     , 0.73875   , 0.73125   ,\n",
      "       0.73375   , 0.7325    , 0.73575   , 0.73993498, 0.73543386]))\n",
      "('Cross validation of KNeighbors model (in mean) = ', 0.7343253371078335)\n"
     ]
    }
   ],
   "source": [
    "#Cross-validation of the ML model\n",
    "from sklearn.model_selection import cross_val_score\n",
    "cross_validation = cross_val_score(estimator = kc_model2, X = X_train_sc, y = y_train, cv = 10)\n",
    "print(\"Cross validation of KNeighbors model = \",cross_validation)\n",
    "print(\"Cross validation of KNeighbors model (in mean) = \",cross_validation.mean())"
   ]
  },
  {
   "cell_type": "code",
   "execution_count": 17,
   "metadata": {},
   "outputs": [
    {
     "name": "stdout",
     "output_type": "stream",
     "text": [
      "         user  enrolled  predicted result\n",
      "11841  239786         1                 1\n",
      "19602  279644         1                 1\n",
      "45519   98290         0                 0\n",
      "25747  170150         1                 0\n",
      "42642  237568         1                 1\n",
      "31902   65042         1                 0\n",
      "30346  207226         1                 1\n",
      "12363  363062         0                 0\n",
      "32490  152296         1                 1\n",
      "26128   64484         0                 0\n",
      "14227   38108         1                 1\n",
      "26376  359940         0                 0\n",
      "44173  136089         0                 0\n",
      "12968   14231         1                 0\n",
      "32104  216038         0                 0\n",
      "17844   18918         1                 1\n",
      "43460  316730         1                 1\n",
      "8369    28308         1                 0\n",
      "15055  228387         1                 1\n",
      "6338    69640         1                 1\n",
      "15301  358264         0                 0\n",
      "46250  348059         0                 0\n",
      "45580  178743         1                 1\n",
      "24647  167556         0                 0\n",
      "46712  294101         0                 0\n",
      "4150   192801         0                 1\n",
      "42460  163983         1                 1\n",
      "29079  298830         0                 0\n",
      "19412  151790         1                 1\n",
      "34839   20200         1                 0\n",
      "...       ...       ...               ...\n",
      "3380   348989         0                 0\n",
      "37623  248593         1                 0\n",
      "24852  316086         1                 0\n",
      "29372  192540         1                 1\n",
      "49639  256833         0                 0\n",
      "2930   273991         1                 1\n",
      "1210   365937         0                 0\n",
      "22652  295129         0                 0\n",
      "32360  255715         1                 0\n",
      "9171    37332         0                 1\n",
      "49037  164886         1                 1\n",
      "17793  309967         0                 1\n",
      "28887   14907         0                 0\n",
      "567    244737         1                 1\n",
      "662    284862         0                 0\n",
      "46038   60719         1                 0\n",
      "16778  262103         1                 0\n",
      "3075   243679         1                 1\n",
      "34793  280000         1                 0\n",
      "6557   255074         0                 0\n",
      "19150  347521         0                 0\n",
      "40096  335029         1                 0\n",
      "7869    37271         1                 1\n",
      "49546  240006         1                 1\n",
      "45202  279449         0                 1\n",
      "25091  143036         1                 1\n",
      "27853   91158         1                 1\n",
      "47278  248318         0                 0\n",
      "37020  142418         1                 1\n",
      "2217   279355         1                 1\n",
      "\n",
      "[10000 rows x 3 columns]\n"
     ]
    }
   ],
   "source": [
    "final_result = pd.concat([test_userID, y_test], axis = 1)\n",
    "final_result['predicted result'] = y_pred_kc_sc\n",
    "print(final_result)"
   ]
  },
  {
   "cell_type": "code",
   "execution_count": 18,
   "metadata": {},
   "outputs": [],
   "source": [
    "#Save the ML model with Pickle\n",
    "import pickle\n",
    "# save model\n",
    "pickle.dump(kc_model2, open('FineTech_app_ML_model.pickle', 'wb'))"
   ]
  },
  {
   "cell_type": "code",
   "execution_count": 19,
   "metadata": {},
   "outputs": [],
   "source": [
    "# load model\n",
    "ml_model_pl = pickle.load(open('FineTech_app_ML_model.pickle', 'rb'))"
   ]
  },
  {
   "cell_type": "code",
   "execution_count": 21,
   "metadata": {},
   "outputs": [],
   "source": [
    "# predict the output\n",
    "y_pred_pl = ml_model_pl.predict(X_test_sc)"
   ]
  },
  {
   "cell_type": "code",
   "execution_count": null,
   "metadata": {},
   "outputs": [],
   "source": []
  }
 ],
 "metadata": {
  "kernelspec": {
   "display_name": "Python 2",
   "language": "python",
   "name": "python2"
  },
  "language_info": {
   "codemirror_mode": {
    "name": "ipython",
    "version": 2
   },
   "file_extension": ".py",
   "mimetype": "text/x-python",
   "name": "python",
   "nbconvert_exporter": "python",
   "pygments_lexer": "ipython2",
   "version": "2.7.16"
  }
 },
 "nbformat": 4,
 "nbformat_minor": 2
}
